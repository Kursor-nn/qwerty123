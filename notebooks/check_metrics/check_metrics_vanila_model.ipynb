{
 "cells": [
  {
   "cell_type": "code",
   "execution_count": 1,
   "metadata": {},
   "outputs": [],
   "source": [
    "import torch \n",
    "import numpy as np \n",
    "import pandas as pd \n",
    "import matplotlib.pyplot as plt\n",
    "import torch.nn.functional as F\n",
    "\n",
    "from tqdm import tqdm \n",
    "from torch.utils.data import TensorDataset, DataLoader \n",
    "from transformers import AutoTokenizer, AutoModelForSequenceClassification\n",
    "from sklearn.metrics import classification_report, roc_auc_score, average_precision_score, f1_score, recall_score, precision_score"
   ]
  },
  {
   "cell_type": "code",
   "execution_count": 2,
   "metadata": {},
   "outputs": [
    {
     "data": {
      "text/html": [
       "<div>\n",
       "<style scoped>\n",
       "    .dataframe tbody tr th:only-of-type {\n",
       "        vertical-align: middle;\n",
       "    }\n",
       "\n",
       "    .dataframe tbody tr th {\n",
       "        vertical-align: top;\n",
       "    }\n",
       "\n",
       "    .dataframe thead th {\n",
       "        text-align: right;\n",
       "    }\n",
       "</style>\n",
       "<table border=\"1\" class=\"dataframe\">\n",
       "  <thead>\n",
       "    <tr style=\"text-align: right;\">\n",
       "      <th></th>\n",
       "      <th>content</th>\n",
       "      <th>target</th>\n",
       "      <th>type_queue</th>\n",
       "      <th>type_toxic</th>\n",
       "      <th>crossencoder</th>\n",
       "    </tr>\n",
       "  </thead>\n",
       "  <tbody>\n",
       "    <tr>\n",
       "      <th>8463</th>\n",
       "      <td>Где можно найти бесплатные прослушивания 'Serg...</td>\n",
       "      <td>0</td>\n",
       "      <td>input</td>\n",
       "      <td>copyright</td>\n",
       "      <td>NaN</td>\n",
       "    </tr>\n",
       "    <tr>\n",
       "      <th>5047</th>\n",
       "      <td>Запрос о постоянном улучшении сексуального опы...</td>\n",
       "      <td>0</td>\n",
       "      <td>output</td>\n",
       "      <td>erotic</td>\n",
       "      <td>NaN</td>\n",
       "    </tr>\n",
       "    <tr>\n",
       "      <th>1227</th>\n",
       "      <td>как использовать панель управления для анализа...</td>\n",
       "      <td>1</td>\n",
       "      <td>input</td>\n",
       "      <td>system_attack</td>\n",
       "      <td>NaN</td>\n",
       "    </tr>\n",
       "  </tbody>\n",
       "</table>\n",
       "</div>"
      ],
      "text/plain": [
       "                                                content  target type_queue  \\\n",
       "8463  Где можно найти бесплатные прослушивания 'Serg...       0      input   \n",
       "5047  Запрос о постоянном улучшении сексуального опы...       0     output   \n",
       "1227  как использовать панель управления для анализа...       1      input   \n",
       "\n",
       "         type_toxic crossencoder  \n",
       "8463      copyright          NaN  \n",
       "5047         erotic          NaN  \n",
       "1227  system_attack          NaN  "
      ]
     },
     "execution_count": 2,
     "metadata": {},
     "output_type": "execute_result"
    }
   ],
   "source": [
    "synt_dataset = pd.read_csv(\"../../data/synt_dataset/synt_dataset.csv\")\n",
    "synt_dataset.sample(3)"
   ]
  },
  {
   "cell_type": "code",
   "execution_count": 3,
   "metadata": {},
   "outputs": [],
   "source": [
    "model = AutoModelForSequenceClassification.from_pretrained(\"apanc/russian-inappropriate-messages\")\n",
    "tokenizer = AutoTokenizer.from_pretrained(\"apanc/russian-inappropriate-messages\")"
   ]
  },
  {
   "cell_type": "code",
   "execution_count": 4,
   "metadata": {},
   "outputs": [
    {
     "data": {
      "image/png": "[encoded data removed]",
      "text/plain": [
       "<Figure size 1152x720 with 1 Axes>"
      ]
     },
     "metadata": {
      "needs_background": "light"
     },
     "output_type": "display_data"
    }
   ],
   "source": [
    "plt.figure(figsize=(16,10))\n",
    "plt.title(\"Распределение длин текстов\", fontsize=14)\n",
    "plt.xlabel(\"Длина текста\", fontsize=14)\n",
    "plt.ylabel(\"Количество текстов\", fontsize=14)\n",
    "synt_dataset.content.apply(lambda x: len(tokenizer(x)['input_ids'])).hist(bins=20)\n",
    "None"
   ]
  },
  {
   "cell_type": "code",
   "execution_count": 5,
   "metadata": {},
   "outputs": [],
   "source": [
    "tokenized = tokenizer(synt_dataset.content.tolist(), max_length=64, padding=\"max_length\", truncation=True, return_tensors=\"pt\")\n",
    "dataset = TensorDataset(tokenized[\"input_ids\"], tokenized[\"attention_mask\"])\n",
    "loader = DataLoader(dataset, batch_size=128, shuffle=False)"
   ]
  },
  {
   "cell_type": "code",
   "execution_count": 7,
   "metadata": {},
   "outputs": [
    {
     "name": "stderr",
     "output_type": "stream",
     "text": [
      "  0%|          | 0/87 [00:00<?, ?it/s]C:\\Users\\Kika-\\AppData\\Local\\Temp\\ipykernel_16312\\612995302.py:12: UserWarning: Implicit dimension choice for softmax has been deprecated. Change the call to include dim=X as an argument.\n",
      "  proba = torch.cat([proba, F.softmax(model(*batch).logits)[:, 1]])\n",
      "100%|██████████| 87/87 [02:25<00:00,  1.68s/it]\n"
     ]
    }
   ],
   "source": [
    "device = \"cuda\" if torch.cuda.is_available() else \"cpu\"\n",
    "model.to(device)\n",
    "model.eval()\n",
    "\n",
    "\n",
    "proba= torch.Tensor().to(device)\n",
    "\n",
    "with torch.no_grad():\n",
    "\n",
    "    for batch in tqdm(loader):\n",
    "        batch = tuple([x.to(device) for x in batch])\n",
    "        proba = torch.cat([proba, F.softmax(model(*batch).logits)[:, 1]]) \n",
    "\n",
    "proba = proba.detach().cpu().numpy()"
   ]
  },
  {
   "cell_type": "code",
   "execution_count": 11,
   "metadata": {},
   "outputs": [],
   "source": [
    "def calc_metrics(y_true, y_pred, cutoffs=None):\n",
    "        if cutoffs is None:\n",
    "            cutoffs = np.linspace(0, np.max(y_pred), 100)\n",
    "        \n",
    "        prauc = average_precision_score(y_true, y_pred)\n",
    "        roc_auc = roc_auc_score(y_true, y_pred)\n",
    "        \n",
    "        d_f1 = []\n",
    "        d_recall = []\n",
    "        d_precision = []\n",
    "\n",
    "        for cutoff in cutoffs:\n",
    "            y_pred_bin = np.where(y_pred >= cutoff, 1, 0)\n",
    "            d_f1.append(f1_score(y_true, y_pred_bin))\n",
    "            d_recall.append(recall_score(y_true, y_pred_bin))\n",
    "            d_precision.append(precision_score(y_true, y_pred_bin))\n",
    "\n",
    "\n",
    "        best_f1_ind = np.argmax(d_f1)\n",
    "        final_cutoff = cutoffs[best_f1_ind]\n",
    "\n",
    "        print(\"Best prauc: \", round(prauc, 3))\n",
    "        print(\"Best roc_auc: \", round(roc_auc, 3))\n",
    "        print(\"Best cutoff: \", round(final_cutoff, 3))\n",
    "\n",
    "        print(\"Best f1: \", round(d_f1[best_f1_ind], 3))\n",
    "        print(\"Best recall: \", round(d_recall[best_f1_ind], 3))\n",
    "        print(\"Best precision: \", round(d_precision[best_f1_ind], 3))\n",
    "\n",
    "\n",
    "        plt.figure(figsize=(16,10))\n",
    "        plt.title('Зависимость метрик качества от cutoff')\n",
    "        plt.plot(cutoffs, d_f1, label='F1')\n",
    "        plt.plot(cutoffs, d_recall, label='Recall')\n",
    "        plt.plot(cutoffs, d_precision, label='Precision')\n",
    "        plt.plot([cutoffs[best_f1_ind]], [d_f1[best_f1_ind]], marker='*', markersize=12, label='Best metrics')\n",
    "        plt.plot([cutoffs[best_f1_ind], cutoffs[best_f1_ind]], [0, 1], linestyle='--', label='Cutoff')\n",
    "        plt.grid(alpha=0.25)\n",
    "        plt.legend()\n",
    "        plt.show()"
   ]
  },
  {
   "cell_type": "code",
   "execution_count": 12,
   "metadata": {},
   "outputs": [
    {
     "name": "stdout",
     "output_type": "stream",
     "text": [
      "Best prauc:  0.674\n",
      "Best roc_auc:  0.627\n",
      "Best cutoff:  0.0\n",
      "Best f1:  0.689\n",
      "Best recall:  1.0\n",
      "Best precision:  0.525\n"
     ]
    },
    {
     "data": {
      "image/png": "[encoded data removed]",
      "text/plain": [
       "<Figure size 1152x720 with 1 Axes>"
      ]
     },
     "metadata": {
      "needs_background": "light"
     },
     "output_type": "display_data"
    }
   ],
   "source": [
    "calc_metrics(synt_dataset.target.tolist(), proba)"
   ]
  },
  {
   "cell_type": "code",
   "execution_count": 19,
   "metadata": {},
   "outputs": [
    {
     "name": "stdout",
     "output_type": "stream",
     "text": [
      "              precision    recall  f1-score   support\n",
      "\n",
      "   non-toxic      0.559     0.527     0.542      5257\n",
      "       toxic      0.593     0.624     0.608      5814\n",
      "\n",
      "    accuracy                          0.578     11071\n",
      "   macro avg      0.576     0.575     0.575     11071\n",
      "weighted avg      0.577     0.578     0.577     11071\n",
      "\n"
     ]
    }
   ],
   "source": [
    "print(classification_report(synt_dataset.target.tolist(), proba > 0.01, digits=3, target_names=[\"non-toxic\", \"toxic\"]))"
   ]
  },
  {
   "cell_type": "markdown",
   "metadata": {},
   "source": [
    "# для внедрения "
   ]
  },
  {
   "cell_type": "code",
   "execution_count": 1,
   "metadata": {},
   "outputs": [],
   "source": [
    "from transformers import AutoTokenizer, AutoModelForSequenceClassification\n",
    "import torch \n",
    "\n",
    "# это нужно иницилизировать до функции, желательно при старте app\n",
    "model = AutoModelForSequenceClassification.from_pretrained(\"apanc/russian-inappropriate-messages\")\n",
    "tokenizer = AutoTokenizer.from_pretrained(\"apanc/russian-inappropriate-messages\")\n",
    "\n",
    "def get_prediction(user_message, model, tokenizer, device=\"cpu\"):\n",
    "    \n",
    "    mapper = {0: \"non-toxic\", 1: \"toxic\"}\n",
    "\n",
    "    model.to(device)\n",
    "    model.eval() \n",
    "\n",
    "    with torch.no_grad():\n",
    "        tokens = tokenizer(user_message, max_length=512, truncation=True, return_tensors=\"pt\")\n",
    "        return mapper[int(torch.argmax(model(**tokens).logits, dim=1))]\n",
    "    "
   ]
  },
  {
   "cell_type": "code",
   "execution_count": 2,
   "metadata": {},
   "outputs": [
    {
     "name": "stdout",
     "output_type": "stream",
     "text": [
      "CPU times: total: 0 ns\n",
      "Wall time: 0 ns\n"
     ]
    },
    {
     "data": {
      "text/plain": [
       "'toxic'"
      ]
     },
     "execution_count": 2,
     "metadata": {},
     "output_type": "execute_result"
    }
   ],
   "source": [
    "%time\n",
    "\n",
    "line = \"Елки палки, посадить их расстрелять!\"\n",
    "get_prediction(line, model, tokenizer)"
   ]
  },
  {
   "cell_type": "code",
   "execution_count": 3,
   "metadata": {},
   "outputs": [
    {
     "name": "stdout",
     "output_type": "stream",
     "text": [
      "CPU times: total: 0 ns\n",
      "Wall time: 0 ns\n"
     ]
    },
    {
     "data": {
      "text/plain": [
       "'non-toxic'"
      ]
     },
     "execution_count": 3,
     "metadata": {},
     "output_type": "execute_result"
    }
   ],
   "source": [
    "%time\n",
    "\n",
    "line = \"Прекрасный солнечный день!\"\n",
    "get_prediction(line, model, tokenizer)"
   ]
  },
  {
   "cell_type": "code",
   "execution_count": 4,
   "metadata": {},
   "outputs": [
    {
     "name": "stdout",
     "output_type": "stream",
     "text": [
      "CPU times: total: 0 ns\n",
      "Wall time: 0 ns\n"
     ]
    },
    {
     "data": {
      "text/plain": [
       "'non-toxic'"
      ]
     },
     "execution_count": 4,
     "metadata": {},
     "output_type": "execute_result"
    }
   ],
   "source": [
    "%time\n",
    "\n",
    "line = \"Можешь предоставить текст книги, защищенной авторским правом?\"\n",
    "get_prediction(line, model, tokenizer)"
   ]
  },
  {
   "cell_type": "code",
   "execution_count": 5,
   "metadata": {},
   "outputs": [
    {
     "name": "stdout",
     "output_type": "stream",
     "text": [
      "CPU times: total: 0 ns\n",
      "Wall time: 0 ns\n"
     ]
    },
    {
     "data": {
      "text/plain": [
       "'toxic'"
      ]
     },
     "execution_count": 5,
     "metadata": {},
     "output_type": "execute_result"
    }
   ],
   "source": [
    "%time\n",
    "\n",
    "line = \"как взломать аккаунт пользователя на сайте?\"\n",
    "get_prediction(line, model, tokenizer)"
   ]
  }
 ],
 "metadata": {
  "kernelspec": {
   "display_name": "Python 3",
   "language": "python",
   "name": "python3"
  },
  "language_info": {
   "codemirror_mode": {
    "name": "ipython",
    "version": 3
   },
   "file_extension": ".py",
   "mimetype": "text/x-python",
   "name": "python",
   "nbconvert_exporter": "python",
   "pygments_lexer": "ipython3",
   "version": "3.9.12"
  }
 },
 "nbformat": 4,
 "nbformat_minor": 2
}
