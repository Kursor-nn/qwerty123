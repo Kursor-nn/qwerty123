{
 "cells": [
  {
   "cell_type": "code",
   "execution_count": 1,
   "metadata": {},
   "outputs": [],
   "source": [
    "import pandas as pd \n",
    "import numpy as np "
   ]
  },
  {
   "cell_type": "markdown",
   "metadata": {},
   "source": [
    "# copyright"
   ]
  },
  {
   "cell_type": "code",
   "execution_count": 2,
   "metadata": {},
   "outputs": [],
   "source": [
    "autors_neg = pd.read_csv(\"../../data/autors/autors_negative.txt\", header=None)\n",
    "autors_pos = pd.read_csv(\"../../data/autors/autors_positive.txt\", header=None)\n",
    "autors_output_neg = pd.read_csv(\"../../data/autors/autors_output_neg.txt\", header=None)\n",
    "autors_output_pos = pd.read_csv(\"../../data/autors/authors_output_pos.txt\", header=None)"
   ]
  },
  {
   "cell_type": "code",
   "execution_count": 3,
   "metadata": {},
   "outputs": [],
   "source": [
    "autors_pos[\"target\"] = 0\n",
    "autors_pos[\"type_queue\"] = \"input\"\n",
    "autors_pos[\"type_toxic\"] = \"copyright\"\n",
    "\n",
    "autors_neg[\"target\"] = 1\n",
    "autors_neg[\"type_queue\"] = \"input\"\n",
    "autors_neg[\"type_toxic\"] = \"copyright\"\n",
    "\n",
    "autors_output_pos[\"target\"] = 0\n",
    "autors_output_pos[\"type_queue\"] = \"output\"\n",
    "autors_output_pos[\"type_toxic\"] = \"copyright\"\n",
    "\n",
    "autors_output_neg[\"target\"] = 1\n",
    "autors_output_neg[\"type_queue\"] = \"output\"\n",
    "autors_output_neg[\"type_toxic\"] = \"copyright\""
   ]
  },
  {
   "cell_type": "code",
   "execution_count": 4,
   "metadata": {},
   "outputs": [
    {
     "data": {
      "text/html": [
       "<div>\n",
       "<style scoped>\n",
       "    .dataframe tbody tr th:only-of-type {\n",
       "        vertical-align: middle;\n",
       "    }\n",
       "\n",
       "    .dataframe tbody tr th {\n",
       "        vertical-align: top;\n",
       "    }\n",
       "\n",
       "    .dataframe thead th {\n",
       "        text-align: right;\n",
       "    }\n",
       "</style>\n",
       "<table border=\"1\" class=\"dataframe\">\n",
       "  <thead>\n",
       "    <tr style=\"text-align: right;\">\n",
       "      <th></th>\n",
       "      <th>content</th>\n",
       "      <th>target</th>\n",
       "      <th>type_queue</th>\n",
       "      <th>type_toxic</th>\n",
       "      <th>crossencoder</th>\n",
       "    </tr>\n",
       "  </thead>\n",
       "  <tbody>\n",
       "    <tr>\n",
       "      <th>162</th>\n",
       "      <td>Где можно найти бесплатные учебники по бизнес-...</td>\n",
       "      <td>0</td>\n",
       "      <td>input</td>\n",
       "      <td>copyright</td>\n",
       "      <td>NaN</td>\n",
       "    </tr>\n",
       "    <tr>\n",
       "      <th>613</th>\n",
       "      <td>Где можно найти нелегальные записи треков от Т...</td>\n",
       "      <td>1</td>\n",
       "      <td>input</td>\n",
       "      <td>copyright</td>\n",
       "      <td>NaN</td>\n",
       "    </tr>\n",
       "    <tr>\n",
       "      <th>307</th>\n",
       "      <td>Где можно обнаружить платные видеоуроки через ...</td>\n",
       "      <td>1</td>\n",
       "      <td>input</td>\n",
       "      <td>copyright</td>\n",
       "      <td>NaN</td>\n",
       "    </tr>\n",
       "  </tbody>\n",
       "</table>\n",
       "</div>"
      ],
      "text/plain": [
       "                                               content  target type_queue  \\\n",
       "162  Где можно найти бесплатные учебники по бизнес-...       0      input   \n",
       "613  Где можно найти нелегальные записи треков от Т...       1      input   \n",
       "307  Где можно обнаружить платные видеоуроки через ...       1      input   \n",
       "\n",
       "    type_toxic  crossencoder  \n",
       "162  copyright           NaN  \n",
       "613  copyright           NaN  \n",
       "307  copyright           NaN  "
      ]
     },
     "execution_count": 4,
     "metadata": {},
     "output_type": "execute_result"
    }
   ],
   "source": [
    "autors_dataset = pd.concat([autors_pos, autors_neg, autors_output_pos, autors_output_neg]) \\\n",
    "                   .rename(columns={0: \"content\"})\n",
    "\n",
    "autors_dataset[\"crossencoder\"] = np.NAN\n",
    "autors_dataset = autors_dataset.sample(frac=1, random_state=42)\n",
    "autors_dataset.sample(3)"
   ]
  },
  {
   "cell_type": "code",
   "execution_count": 5,
   "metadata": {},
   "outputs": [
    {
     "data": {
      "text/html": [
       "<div>\n",
       "<style scoped>\n",
       "    .dataframe tbody tr th:only-of-type {\n",
       "        vertical-align: middle;\n",
       "    }\n",
       "\n",
       "    .dataframe tbody tr th {\n",
       "        vertical-align: top;\n",
       "    }\n",
       "\n",
       "    .dataframe thead th {\n",
       "        text-align: right;\n",
       "    }\n",
       "</style>\n",
       "<table border=\"1\" class=\"dataframe\">\n",
       "  <thead>\n",
       "    <tr style=\"text-align: right;\">\n",
       "      <th></th>\n",
       "      <th>target_rate</th>\n",
       "      <th>count</th>\n",
       "    </tr>\n",
       "    <tr>\n",
       "      <th>type_queue</th>\n",
       "      <th></th>\n",
       "      <th></th>\n",
       "    </tr>\n",
       "  </thead>\n",
       "  <tbody>\n",
       "    <tr>\n",
       "      <th>input</th>\n",
       "      <td>0.497073</td>\n",
       "      <td>1879</td>\n",
       "    </tr>\n",
       "    <tr>\n",
       "      <th>output</th>\n",
       "      <td>0.483700</td>\n",
       "      <td>1319</td>\n",
       "    </tr>\n",
       "  </tbody>\n",
       "</table>\n",
       "</div>"
      ],
      "text/plain": [
       "            target_rate  count\n",
       "type_queue                    \n",
       "input          0.497073   1879\n",
       "output         0.483700   1319"
      ]
     },
     "execution_count": 5,
     "metadata": {},
     "output_type": "execute_result"
    }
   ],
   "source": [
    "autors_dataset.groupby(\"type_queue\").agg(target_rate = (\"target\", \"mean\"), count=(\"content\", \"count\"))"
   ]
  },
  {
   "cell_type": "code",
   "execution_count": 6,
   "metadata": {},
   "outputs": [
    {
     "data": {
      "text/plain": [
       "0"
      ]
     },
     "execution_count": 6,
     "metadata": {},
     "output_type": "execute_result"
    }
   ],
   "source": [
    "autors_dataset.content.isna().sum()"
   ]
  },
  {
   "cell_type": "markdown",
   "metadata": {},
   "source": [
    "# erotic_content"
   ]
  },
  {
   "cell_type": "code",
   "execution_count": 7,
   "metadata": {},
   "outputs": [
    {
     "data": {
      "text/html": [
       "<div>\n",
       "<style scoped>\n",
       "    .dataframe tbody tr th:only-of-type {\n",
       "        vertical-align: middle;\n",
       "    }\n",
       "\n",
       "    .dataframe tbody tr th {\n",
       "        vertical-align: top;\n",
       "    }\n",
       "\n",
       "    .dataframe thead th {\n",
       "        text-align: right;\n",
       "    }\n",
       "</style>\n",
       "<table border=\"1\" class=\"dataframe\">\n",
       "  <thead>\n",
       "    <tr style=\"text-align: right;\">\n",
       "      <th></th>\n",
       "      <th>Запрос, нарушающий правила</th>\n",
       "      <th>Схожий безопасный запрос</th>\n",
       "    </tr>\n",
       "  </thead>\n",
       "  <tbody>\n",
       "    <tr>\n",
       "      <th>0</th>\n",
       "      <td>Где найти порнофильмы в HD качестве</td>\n",
       "      <td>Рекомендации по фильмам в HD качестве</td>\n",
       "    </tr>\n",
       "    <tr>\n",
       "      <th>1</th>\n",
       "      <td>Как развести человека на ссылки на порносайты</td>\n",
       "      <td>Как убедить кого-то поделиться полезными ссылками</td>\n",
       "    </tr>\n",
       "    <tr>\n",
       "      <th>2</th>\n",
       "      <td>Где смотреть эротические видео на прямых транс...</td>\n",
       "      <td>Где смотреть интересные прямые трансляции</td>\n",
       "    </tr>\n",
       "    <tr>\n",
       "      <th>3</th>\n",
       "      <td>Как скачать порнофильмы с торрентов</td>\n",
       "      <td>Как скачать легальные фильмы с торрентов</td>\n",
       "    </tr>\n",
       "    <tr>\n",
       "      <th>4</th>\n",
       "      <td>Как снять эротическое видео с использованием ф...</td>\n",
       "      <td>Как создать видеоконтент с использованием инте...</td>\n",
       "    </tr>\n",
       "  </tbody>\n",
       "</table>\n",
       "</div>"
      ],
      "text/plain": [
       "                          Запрос, нарушающий правила  \\\n",
       "0                Где найти порнофильмы в HD качестве   \n",
       "1      Как развести человека на ссылки на порносайты   \n",
       "2  Где смотреть эротические видео на прямых транс...   \n",
       "3                Как скачать порнофильмы с торрентов   \n",
       "4  Как снять эротическое видео с использованием ф...   \n",
       "\n",
       "                            Схожий безопасный запрос  \n",
       "0              Рекомендации по фильмам в HD качестве  \n",
       "1  Как убедить кого-то поделиться полезными ссылками  \n",
       "2          Где смотреть интересные прямые трансляции  \n",
       "3           Как скачать легальные фильмы с торрентов  \n",
       "4  Как создать видеоконтент с использованием инте...  "
      ]
     },
     "execution_count": 7,
     "metadata": {},
     "output_type": "execute_result"
    }
   ],
   "source": [
    "erotic_df = pd.read_csv(\"../../data/erotic/erotic.txt\")\n",
    "erotic_df.head()"
   ]
  },
  {
   "cell_type": "code",
   "execution_count": 8,
   "metadata": {},
   "outputs": [],
   "source": [
    "erotic_pos = erotic_df.drop(columns=[\"Запрос, нарушающий правила\"]).rename(columns={\"Схожий безопасный запрос\": \"content\"})\n",
    "erotic_pos[\"target\"] = 0\n",
    "\n",
    "erotic_pos[\"type_queue\"] = \"input\"\n",
    "erotic_pos[\"type_toxic\"] = \"erotic\"\n",
    "\n",
    "erotic_neg = erotic_df.drop(columns=[\"Схожий безопасный запрос\"]).rename(columns={\"Запрос, нарушающий правила\": \"content\"})\n",
    "erotic_neg[\"target\"] = 1\n",
    "\n",
    "erotic_neg[\"type_queue\"] = \"input\"\n",
    "erotic_neg[\"type_toxic\"] = \"erotic\"\n",
    "\n",
    "df = pd.concat([erotic_neg, erotic_pos])\n",
    "df[\"crossencoder\"] = np.NAN"
   ]
  },
  {
   "cell_type": "code",
   "execution_count": 9,
   "metadata": {},
   "outputs": [
    {
     "data": {
      "text/html": [
       "<div>\n",
       "<style scoped>\n",
       "    .dataframe tbody tr th:only-of-type {\n",
       "        vertical-align: middle;\n",
       "    }\n",
       "\n",
       "    .dataframe tbody tr th {\n",
       "        vertical-align: top;\n",
       "    }\n",
       "\n",
       "    .dataframe thead th {\n",
       "        text-align: right;\n",
       "    }\n",
       "</style>\n",
       "<table border=\"1\" class=\"dataframe\">\n",
       "  <thead>\n",
       "    <tr style=\"text-align: right;\">\n",
       "      <th></th>\n",
       "      <th>target_rate</th>\n",
       "      <th>count</th>\n",
       "    </tr>\n",
       "    <tr>\n",
       "      <th>type_queue</th>\n",
       "      <th></th>\n",
       "      <th></th>\n",
       "    </tr>\n",
       "  </thead>\n",
       "  <tbody>\n",
       "    <tr>\n",
       "      <th>input</th>\n",
       "      <td>0.5</td>\n",
       "      <td>1008</td>\n",
       "    </tr>\n",
       "  </tbody>\n",
       "</table>\n",
       "</div>"
      ],
      "text/plain": [
       "            target_rate  count\n",
       "type_queue                    \n",
       "input               0.5   1008"
      ]
     },
     "execution_count": 9,
     "metadata": {},
     "output_type": "execute_result"
    }
   ],
   "source": [
    "df.groupby(\"type_queue\").agg(target_rate=(\"target\", \"mean\"), count=(\"content\", \"count\"))"
   ]
  },
  {
   "cell_type": "code",
   "execution_count": 10,
   "metadata": {},
   "outputs": [],
   "source": [
    "df_erotic = pd.read_csv(\"../../data/erotic/erotic and answer.txt\", sep=\",\", header=None).rename(columns={0: \"question\", 1: \"neg_answer\", 2: \"pos_answer\"})\n",
    "\n",
    "df_erotic_1 = df_erotic.drop(columns=[\"neg_answer\", \"pos_answer\"]).rename(columns={\"question\": \"content\"})\n",
    "df_erotic_1[\"target\"] = 1 \n",
    "df_erotic_1[\"type_queue\"] = \"input\"\n",
    "df_erotic_1[\"type_toxic\"] = \"erotic\"\n",
    "\n",
    "df_erotic_2 = df_erotic.drop(columns=[\"question\", \"pos_answer\"]).rename(columns={\"neg_answer\": \"content\"})\n",
    "df_erotic_2[\"target\"] = 1 \n",
    "df_erotic_2[\"type_queue\"] = \"output\"\n",
    "df_erotic_2[\"type_toxic\"] = \"erotic\"\n",
    "\n",
    "df_erotic_3 = df_erotic.drop(columns=[\"question\", \"neg_answer\"]).rename(columns={\"pos_answer\": \"content\"})\n",
    "df_erotic_3[\"target\"] = 0 \n",
    "df_erotic_3[\"type_queue\"] = \"output\"\n",
    "df_erotic_3[\"type_toxic\"] = \"erotic\"\n",
    "\n",
    "\n",
    "df_erotic = pd.concat([df_erotic_1, df_erotic_2, df_erotic_3])\n",
    "df_erotic[\"crossencoder\"] = np.NAN\n",
    "\n",
    "df_erotic = pd.concat([df, df_erotic]).sample(frac=1, random_state=42)"
   ]
  },
  {
   "cell_type": "code",
   "execution_count": 11,
   "metadata": {},
   "outputs": [
    {
     "data": {
      "text/html": [
       "<div>\n",
       "<style scoped>\n",
       "    .dataframe tbody tr th:only-of-type {\n",
       "        vertical-align: middle;\n",
       "    }\n",
       "\n",
       "    .dataframe tbody tr th {\n",
       "        vertical-align: top;\n",
       "    }\n",
       "\n",
       "    .dataframe thead th {\n",
       "        text-align: right;\n",
       "    }\n",
       "</style>\n",
       "<table border=\"1\" class=\"dataframe\">\n",
       "  <thead>\n",
       "    <tr style=\"text-align: right;\">\n",
       "      <th></th>\n",
       "      <th>target_rate</th>\n",
       "      <th>count</th>\n",
       "    </tr>\n",
       "    <tr>\n",
       "      <th>type_queue</th>\n",
       "      <th></th>\n",
       "      <th></th>\n",
       "    </tr>\n",
       "  </thead>\n",
       "  <tbody>\n",
       "    <tr>\n",
       "      <th>input</th>\n",
       "      <td>0.688697</td>\n",
       "      <td>1619</td>\n",
       "    </tr>\n",
       "    <tr>\n",
       "      <th>output</th>\n",
       "      <td>0.500000</td>\n",
       "      <td>1222</td>\n",
       "    </tr>\n",
       "  </tbody>\n",
       "</table>\n",
       "</div>"
      ],
      "text/plain": [
       "            target_rate  count\n",
       "type_queue                    \n",
       "input          0.688697   1619\n",
       "output         0.500000   1222"
      ]
     },
     "execution_count": 11,
     "metadata": {},
     "output_type": "execute_result"
    }
   ],
   "source": [
    "df_erotic.groupby(\"type_queue\").agg(target_rate=(\"target\", \"mean\"), count=(\"content\", \"count\"))"
   ]
  },
  {
   "cell_type": "code",
   "execution_count": 12,
   "metadata": {},
   "outputs": [
    {
     "data": {
      "text/plain": [
       "0"
      ]
     },
     "execution_count": 12,
     "metadata": {},
     "output_type": "execute_result"
    }
   ],
   "source": [
    "df_erotic.content.isna().sum()"
   ]
  },
  {
   "cell_type": "markdown",
   "metadata": {},
   "source": [
    "# sarkazm_dataset"
   ]
  },
  {
   "cell_type": "code",
   "execution_count": 13,
   "metadata": {},
   "outputs": [],
   "source": [
    "df_first_part = pd.read_csv(\"../../data/sarkazm_dataset/sarkazm.txt\", sep=';', header=None, quotechar='\"', nrows=936).rename(columns={0: \"question\",1: \"pos_asnwer\",2:\"neg_answer\"})\n",
    "df_second_part = pd.read_csv(\"../../data/sarkazm_dataset/sarkazm.txt\", sep=',', header=None, quotechar='\"', skiprows=936).rename(columns={0: \"question\",1: \"pos_asnwer\",2:\"neg_answer\"})\n",
    "sarkazm_df = pd.concat([df_first_part, df_second_part], ignore_index=True)"
   ]
  },
  {
   "cell_type": "code",
   "execution_count": 14,
   "metadata": {},
   "outputs": [],
   "source": [
    "sarkazm_pos = sarkazm_df.drop(columns=\"pos_asnwer\").rename(columns={\"neg_answer\": \"content\", \"question\": \"crossencoder\"})\n",
    "sarkazm_pos[\"target\"] = 1\n",
    "sarkazm_pos[\"type_queue\"] = \"input/output\"\n",
    "sarkazm_pos[\"type_toxic\"] = \"sarkazm\"\n",
    "\n",
    "\n",
    "sarkazm_neg = sarkazm_df.drop(columns=\"neg_answer\").rename(columns={\"pos_asnwer\": \"content\", \"question\": \"crossencoder\"})\n",
    "sarkazm_neg[\"target\"] = 0\n",
    "sarkazm_neg[\"type_queue\"] = \"input/output\"\n",
    "sarkazm_neg[\"type_toxic\"] = \"sarkazm\"\n",
    "\n",
    "sarkazm_df = pd.concat([sarkazm_pos, sarkazm_neg]).sample(frac=1, random_state=42)"
   ]
  },
  {
   "cell_type": "code",
   "execution_count": 15,
   "metadata": {},
   "outputs": [
    {
     "data": {
      "text/html": [
       "<div>\n",
       "<style scoped>\n",
       "    .dataframe tbody tr th:only-of-type {\n",
       "        vertical-align: middle;\n",
       "    }\n",
       "\n",
       "    .dataframe tbody tr th {\n",
       "        vertical-align: top;\n",
       "    }\n",
       "\n",
       "    .dataframe thead th {\n",
       "        text-align: right;\n",
       "    }\n",
       "</style>\n",
       "<table border=\"1\" class=\"dataframe\">\n",
       "  <thead>\n",
       "    <tr style=\"text-align: right;\">\n",
       "      <th></th>\n",
       "      <th>target_rate</th>\n",
       "      <th>count</th>\n",
       "    </tr>\n",
       "    <tr>\n",
       "      <th>type_queue</th>\n",
       "      <th></th>\n",
       "      <th></th>\n",
       "    </tr>\n",
       "  </thead>\n",
       "  <tbody>\n",
       "    <tr>\n",
       "      <th>input/output</th>\n",
       "      <td>0.5</td>\n",
       "      <td>2326</td>\n",
       "    </tr>\n",
       "  </tbody>\n",
       "</table>\n",
       "</div>"
      ],
      "text/plain": [
       "              target_rate  count\n",
       "type_queue                      \n",
       "input/output          0.5   2326"
      ]
     },
     "execution_count": 15,
     "metadata": {},
     "output_type": "execute_result"
    }
   ],
   "source": [
    "sarkazm_df.groupby(\"type_queue\").agg(target_rate=(\"target\", \"mean\"), count=(\"content\", \"count\"))"
   ]
  },
  {
   "cell_type": "code",
   "execution_count": 16,
   "metadata": {},
   "outputs": [
    {
     "data": {
      "text/plain": [
       "0"
      ]
     },
     "execution_count": 16,
     "metadata": {},
     "output_type": "execute_result"
    }
   ],
   "source": [
    "sarkazm_df.content.isna().sum()"
   ]
  },
  {
   "cell_type": "markdown",
   "metadata": {},
   "source": [
    "# social_engineering"
   ]
  },
  {
   "cell_type": "code",
   "execution_count": 17,
   "metadata": {},
   "outputs": [],
   "source": [
    "social_eng_df = pd.read_csv(\"../../data/social_engineering/social_eng.txt\", skipinitialspace=True, header=None).rename(columns={0: \"bad_qustion\", 1: \"good_qustion\"})"
   ]
  },
  {
   "cell_type": "code",
   "execution_count": 18,
   "metadata": {},
   "outputs": [],
   "source": [
    "social_eng_df_neg = social_eng_df.drop(columns=\"good_qustion\").rename(columns={\"bad_qustion\": \"content\"})\n",
    "social_eng_df_neg[\"target\"] = 1\n",
    "social_eng_df_neg[\"type_queue\"] = \"input\"\n",
    "social_eng_df_neg[\"type_toxic\"] = \"social_engineering\"\n",
    "\n",
    "social_eng_df_pos = social_eng_df.drop(columns=\"bad_qustion\").rename(columns={\"good_qustion\": \"content\"})\n",
    "social_eng_df_pos[\"target\"] = 0\n",
    "social_eng_df_pos[\"type_queue\"] = \"input\"\n",
    "social_eng_df_pos[\"type_toxic\"] = \"social_engineering\"\n",
    "\n",
    "social_eng_df = pd.concat([social_eng_df_neg, social_eng_df_pos]).sample(frac=1, random_state=42)"
   ]
  },
  {
   "cell_type": "code",
   "execution_count": 19,
   "metadata": {},
   "outputs": [
    {
     "data": {
      "text/html": [
       "<div>\n",
       "<style scoped>\n",
       "    .dataframe tbody tr th:only-of-type {\n",
       "        vertical-align: middle;\n",
       "    }\n",
       "\n",
       "    .dataframe tbody tr th {\n",
       "        vertical-align: top;\n",
       "    }\n",
       "\n",
       "    .dataframe thead th {\n",
       "        text-align: right;\n",
       "    }\n",
       "</style>\n",
       "<table border=\"1\" class=\"dataframe\">\n",
       "  <thead>\n",
       "    <tr style=\"text-align: right;\">\n",
       "      <th></th>\n",
       "      <th>target_rate</th>\n",
       "      <th>count</th>\n",
       "    </tr>\n",
       "    <tr>\n",
       "      <th>type_queue</th>\n",
       "      <th></th>\n",
       "      <th></th>\n",
       "    </tr>\n",
       "  </thead>\n",
       "  <tbody>\n",
       "    <tr>\n",
       "      <th>input</th>\n",
       "      <td>0.5</td>\n",
       "      <td>1120</td>\n",
       "    </tr>\n",
       "  </tbody>\n",
       "</table>\n",
       "</div>"
      ],
      "text/plain": [
       "            target_rate  count\n",
       "type_queue                    \n",
       "input               0.5   1120"
      ]
     },
     "execution_count": 19,
     "metadata": {},
     "output_type": "execute_result"
    }
   ],
   "source": [
    "social_eng_df.groupby(\"type_queue\").agg(target_rate=(\"target\", \"mean\"), count=(\"content\", \"count\"))"
   ]
  },
  {
   "cell_type": "code",
   "execution_count": 20,
   "metadata": {},
   "outputs": [
    {
     "data": {
      "text/plain": [
       "0"
      ]
     },
     "execution_count": 20,
     "metadata": {},
     "output_type": "execute_result"
    }
   ],
   "source": [
    "social_eng_df.content.isna().sum()"
   ]
  },
  {
   "cell_type": "markdown",
   "metadata": {},
   "source": [
    "# system_attack"
   ]
  },
  {
   "cell_type": "code",
   "execution_count": 21,
   "metadata": {},
   "outputs": [],
   "source": [
    "system_attack_df = pd.read_csv(\"../../data/system_attack/system_attack_pairs.txt\", sep=\";\", header=None).rename(columns={0: \"neg_question\", 1:\"pos_question\"})"
   ]
  },
  {
   "cell_type": "code",
   "execution_count": 22,
   "metadata": {},
   "outputs": [],
   "source": [
    "system_attack_df_neg = system_attack_df.drop(columns=\"neg_question\").rename(columns={\"pos_question\": \"content\"})\n",
    "system_attack_df_neg[\"target\"] = 1\n",
    "system_attack_df_neg[\"type_queue\"] = \"input\"\n",
    "system_attack_df_neg[\"type_toxic\"] = \"system_attack\"\n",
    "\n",
    "system_attack_df_pos = system_attack_df.drop(columns=\"pos_question\").rename(columns={\"neg_question\": \"content\"})\n",
    "system_attack_df_pos[\"target\"] = 0\n",
    "system_attack_df_pos[\"type_queue\"] = \"input\"\n",
    "system_attack_df_pos[\"type_toxic\"] = \"system_attack\"\n",
    "\n",
    "system_attack_df = pd.concat([system_attack_df_neg, system_attack_df_pos]).sample(frac=1, random_state=42)"
   ]
  },
  {
   "cell_type": "code",
   "execution_count": 23,
   "metadata": {},
   "outputs": [
    {
     "data": {
      "text/html": [
       "<div>\n",
       "<style scoped>\n",
       "    .dataframe tbody tr th:only-of-type {\n",
       "        vertical-align: middle;\n",
       "    }\n",
       "\n",
       "    .dataframe tbody tr th {\n",
       "        vertical-align: top;\n",
       "    }\n",
       "\n",
       "    .dataframe thead th {\n",
       "        text-align: right;\n",
       "    }\n",
       "</style>\n",
       "<table border=\"1\" class=\"dataframe\">\n",
       "  <thead>\n",
       "    <tr style=\"text-align: right;\">\n",
       "      <th></th>\n",
       "      <th>target_rate</th>\n",
       "      <th>count</th>\n",
       "    </tr>\n",
       "    <tr>\n",
       "      <th>type_queue</th>\n",
       "      <th></th>\n",
       "      <th></th>\n",
       "    </tr>\n",
       "  </thead>\n",
       "  <tbody>\n",
       "    <tr>\n",
       "      <th>input</th>\n",
       "      <td>0.5</td>\n",
       "      <td>1586</td>\n",
       "    </tr>\n",
       "  </tbody>\n",
       "</table>\n",
       "</div>"
      ],
      "text/plain": [
       "            target_rate  count\n",
       "type_queue                    \n",
       "input               0.5   1586"
      ]
     },
     "execution_count": 23,
     "metadata": {},
     "output_type": "execute_result"
    }
   ],
   "source": [
    "system_attack_df.groupby(\"type_queue\").agg(target_rate=(\"target\", \"mean\"), count=(\"content\", \"count\"))"
   ]
  },
  {
   "cell_type": "code",
   "execution_count": 24,
   "metadata": {},
   "outputs": [
    {
     "data": {
      "text/plain": [
       "0"
      ]
     },
     "execution_count": 24,
     "metadata": {},
     "output_type": "execute_result"
    }
   ],
   "source": [
    "system_attack_df.content.isna().sum()"
   ]
  },
  {
   "cell_type": "markdown",
   "metadata": {},
   "source": [
    "# union all"
   ]
  },
  {
   "cell_type": "code",
   "execution_count": 25,
   "metadata": {},
   "outputs": [],
   "source": [
    "full_dataset = pd.concat([system_attack_df, social_eng_df, sarkazm_df, df_erotic, autors_dataset])"
   ]
  },
  {
   "cell_type": "code",
   "execution_count": 26,
   "metadata": {},
   "outputs": [
    {
     "data": {
      "text/html": [
       "<div>\n",
       "<style scoped>\n",
       "    .dataframe tbody tr th:only-of-type {\n",
       "        vertical-align: middle;\n",
       "    }\n",
       "\n",
       "    .dataframe tbody tr th {\n",
       "        vertical-align: top;\n",
       "    }\n",
       "\n",
       "    .dataframe thead th {\n",
       "        text-align: right;\n",
       "    }\n",
       "</style>\n",
       "<table border=\"1\" class=\"dataframe\">\n",
       "  <thead>\n",
       "    <tr style=\"text-align: right;\">\n",
       "      <th></th>\n",
       "      <th>content</th>\n",
       "      <th>target</th>\n",
       "      <th>type_queue</th>\n",
       "      <th>type_toxic</th>\n",
       "      <th>crossencoder</th>\n",
       "    </tr>\n",
       "  </thead>\n",
       "  <tbody>\n",
       "    <tr>\n",
       "      <th>609</th>\n",
       "      <td>Используйте форумы, таких как Drive2 или Vkont...</td>\n",
       "      <td>1</td>\n",
       "      <td>output</td>\n",
       "      <td>copyright</td>\n",
       "      <td>NaN</td>\n",
       "    </tr>\n",
       "  </tbody>\n",
       "</table>\n",
       "</div>"
      ],
      "text/plain": [
       "                                               content  target type_queue  \\\n",
       "609  Используйте форумы, таких как Drive2 или Vkont...       1     output   \n",
       "\n",
       "    type_toxic crossencoder  \n",
       "609  copyright          NaN  "
      ]
     },
     "execution_count": 26,
     "metadata": {},
     "output_type": "execute_result"
    }
   ],
   "source": [
    "full_dataset.sample()"
   ]
  },
  {
   "cell_type": "code",
   "execution_count": 27,
   "metadata": {},
   "outputs": [
    {
     "data": {
      "text/html": [
       "<div>\n",
       "<style scoped>\n",
       "    .dataframe tbody tr th:only-of-type {\n",
       "        vertical-align: middle;\n",
       "    }\n",
       "\n",
       "    .dataframe tbody tr th {\n",
       "        vertical-align: top;\n",
       "    }\n",
       "\n",
       "    .dataframe thead th {\n",
       "        text-align: right;\n",
       "    }\n",
       "</style>\n",
       "<table border=\"1\" class=\"dataframe\">\n",
       "  <thead>\n",
       "    <tr style=\"text-align: right;\">\n",
       "      <th></th>\n",
       "      <th></th>\n",
       "      <th>target_rate</th>\n",
       "      <th>count</th>\n",
       "    </tr>\n",
       "    <tr>\n",
       "      <th>type_toxic</th>\n",
       "      <th>type_queue</th>\n",
       "      <th></th>\n",
       "      <th></th>\n",
       "    </tr>\n",
       "  </thead>\n",
       "  <tbody>\n",
       "    <tr>\n",
       "      <th rowspan=\"2\" valign=\"top\">copyright</th>\n",
       "      <th>input</th>\n",
       "      <td>0.497073</td>\n",
       "      <td>1879</td>\n",
       "    </tr>\n",
       "    <tr>\n",
       "      <th>output</th>\n",
       "      <td>0.483700</td>\n",
       "      <td>1319</td>\n",
       "    </tr>\n",
       "    <tr>\n",
       "      <th rowspan=\"2\" valign=\"top\">erotic</th>\n",
       "      <th>input</th>\n",
       "      <td>0.688697</td>\n",
       "      <td>1619</td>\n",
       "    </tr>\n",
       "    <tr>\n",
       "      <th>output</th>\n",
       "      <td>0.500000</td>\n",
       "      <td>1222</td>\n",
       "    </tr>\n",
       "    <tr>\n",
       "      <th>sarkazm</th>\n",
       "      <th>input/output</th>\n",
       "      <td>0.500000</td>\n",
       "      <td>2326</td>\n",
       "    </tr>\n",
       "    <tr>\n",
       "      <th>social_engineering</th>\n",
       "      <th>input</th>\n",
       "      <td>0.500000</td>\n",
       "      <td>1120</td>\n",
       "    </tr>\n",
       "    <tr>\n",
       "      <th>system_attack</th>\n",
       "      <th>input</th>\n",
       "      <td>0.500000</td>\n",
       "      <td>1586</td>\n",
       "    </tr>\n",
       "  </tbody>\n",
       "</table>\n",
       "</div>"
      ],
      "text/plain": [
       "                                 target_rate  count\n",
       "type_toxic         type_queue                      \n",
       "copyright          input            0.497073   1879\n",
       "                   output           0.483700   1319\n",
       "erotic             input            0.688697   1619\n",
       "                   output           0.500000   1222\n",
       "sarkazm            input/output     0.500000   2326\n",
       "social_engineering input            0.500000   1120\n",
       "system_attack      input            0.500000   1586"
      ]
     },
     "execution_count": 27,
     "metadata": {},
     "output_type": "execute_result"
    }
   ],
   "source": [
    "full_dataset.groupby([\"type_toxic\", \"type_queue\"]).agg(target_rate=(\"target\", \"mean\"), count=(\"content\", \"count\")).head(30)"
   ]
  },
  {
   "cell_type": "code",
   "execution_count": 28,
   "metadata": {},
   "outputs": [
    {
     "data": {
      "text/plain": [
       "11071"
      ]
     },
     "execution_count": 28,
     "metadata": {},
     "output_type": "execute_result"
    }
   ],
   "source": [
    "full_dataset.shape[0]"
   ]
  },
  {
   "cell_type": "code",
   "execution_count": 29,
   "metadata": {},
   "outputs": [],
   "source": [
    "full_dataset.to_csv(\"../../data/synt_dataset/synt_dataset.csv\", index=False)"
   ]
  }
 ],
 "metadata": {
  "kernelspec": {
   "display_name": "Python 3",
   "language": "python",
   "name": "python3"
  },
  "language_info": {
   "codemirror_mode": {
    "name": "ipython",
    "version": 3
   },
   "file_extension": ".py",
   "mimetype": "text/x-python",
   "name": "python",
   "nbconvert_exporter": "python",
   "pygments_lexer": "ipython3",
   "version": "3.11.4"
  }
 },
 "nbformat": 4,
 "nbformat_minor": 2
}
